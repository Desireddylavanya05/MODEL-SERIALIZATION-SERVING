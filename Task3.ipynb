{
  "nbformat": 4,
  "nbformat_minor": 0,
  "metadata": {
    "colab": {
      "provenance": []
    },
    "kernelspec": {
      "name": "python3",
      "display_name": "Python 3"
    },
    "language_info": {
      "name": "python"
    }
  },
  "cells": [
    {
      "cell_type": "code",
      "execution_count": null,
      "metadata": {
        "colab": {
          "base_uri": "https://localhost:8080/"
        },
        "id": "kZrgClLgJ29X",
        "outputId": "ae554a3e-fa89-4121-e3b9-91f3cd8e0582"
      },
      "outputs": [
        {
          "metadata": {
            "tags": null
          },
          "name": "stdout",
          "output_type": "stream",
          "text": [
            "✅ Model trained and saved.\n",
            " * Serving Flask app '__main__'\n",
            " * Debug mode: on\n"
          ]
        },
        {
          "metadata": {
            "tags": null
          },
          "name": "stderr",
          "output_type": "stream",
          "text": [
            "INFO:werkzeug:\u001b[31m\u001b[1mWARNING: This is a development server. Do not use it in a production deployment. Use a production WSGI server instead.\u001b[0m\n",
            " * Running on http://127.0.0.1:5000\n",
            "INFO:werkzeug:\u001b[33mPress CTRL+C to quit\u001b[0m\n",
            "INFO:werkzeug: * Restarting with stat\n"
          ]
        }
      ],
      "source": [
        "from flask import Flask, request, jsonify\n",
        "from sklearn.datasets import load_iris\n",
        "from sklearn.ensemble import RandomForestClassifier\n",
        "from sklearn.model_selection import train_test_split\n",
        "import joblib\n",
        "import numpy as np\n",
        "import os\n",
        "\n",
        "app = Flask(__name__)\n",
        "\n",
        "MODEL_FILE = 'iris_model.pkl'\n",
        "\n",
        "# Step 1: Train and save model (only if not already saved)\n",
        "def train_and_serialize():\n",
        "    iris = load_iris()\n",
        "    X_train, X_test, y_train, y_test = train_test_split(\n",
        "        iris.data, iris.target, test_size=0.2, random_state=42)\n",
        "\n",
        "    model = RandomForestClassifier()\n",
        "    model.fit(X_train, y_train)\n",
        "    joblib.dump(model, MODEL_FILE)\n",
        "    print(\"✅ Model trained and saved.\")\n",
        "\n",
        "# Step 2: Load model\n",
        "def load_model():\n",
        "    if not os.path.exists(MODEL_FILE):\n",
        "        train_and_serialize()\n",
        "    return joblib.load(MODEL_FILE)\n",
        "\n",
        "model = load_model()\n",
        "\n",
        "# Step 3: Define Flask routes\n",
        "@app.route('/')\n",
        "def home():\n",
        "    return \"🌸 Iris Prediction API is up and running!\"\n",
        "\n",
        "@app.route('/predict', methods=['POST'])\n",
        "def predict():\n",
        "    try:\n",
        "        data = request.get_json(force=True)\n",
        "        features = np.array(data['features']).reshape(1, -1)\n",
        "        prediction = model.predict(features)\n",
        "        return jsonify({'prediction': int(prediction[0])})\n",
        "    except Exception as e:\n",
        "        return jsonify({'error': str(e)}), 400\n",
        "\n",
        "# Step 4: Run Flask app\n",
        "if __name__ == '__main__':\n",
        "    app.run(debug=True)\n"
      ]
    }
  ]
}